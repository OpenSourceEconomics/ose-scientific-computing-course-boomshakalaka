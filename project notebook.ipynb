{
 "cells": [
  {
   "cell_type": "markdown",
   "metadata": {},
   "source": [
    "--- \n",
    "Replication project for the class of OSE Scientific Computing for Economists | Winter Semester 2021-2022 | Bonn University | [Başak Çelebi](https://github.com/Basakclb), [Gözde Özden](https://github.com/ozdengo)\n",
    "\n",
    "# Dynamic Bayesian Forecasting of Presidential Elections in the States <a class=\"tocSkip\">   \n",
    "---"
   ]
  },
  {
   "cell_type": "markdown",
   "metadata": {},
   "source": [
    "This notebook contains my replication of the results from the following paper:\n",
    "\n",
    "> [Linzer, D. A. (2013). Dynamic Bayesian forecasting of presidential elections in the states. Journal of the American Statistical Association, 108(501), 124-134.](https://www.tandfonline.com/doi/abs/10.1080/01621459.2012.737735)\n",
    "\n",
    "\n",
    "##### Information about replication and individual contributions:\n",
    "\n",
    "\n",
    "* The tables in my replication appear transposed compared to the original tables to suit my workflow in Python.\n",
    "\n",
    "\n",
    "* We extend the results by adding adjusters for pollsters, survey mode and survey population, using state-level priors that update throughout the election year and determining empirical state-level correlations from political and demographic variables.\n",
    "\n",
    "\n",
    "\n"
   ]
  },
  {
   "cell_type": "markdown",
   "metadata": {
    "toc": true
   },
   "source": [
    "<h1>Table of Contents<span class=\"tocSkip\"></span></h1>\n",
    "<div class=\"toc\">\n",
    "    <ul class=\"toc-item\">\n",
    "        <li><span><a href=\"#1.-Introduction\" data-toc-modified-id=\"1.-Introduction-1\">1. Introduction</a></span></li>\n",
    "        <li><span><a href=\"#2.-Background\" data-toc-modified-id=\"2.-Background-2\">2. Backgground</a></span></li>\n",
    "            <ul class=\"toc-item\">\n",
    "                <li><span><a href=\"#2.1.-Characteristics-of-Trial-Heat-Polls\" data-toc-modified-id=\"2.1.-Characteristics-of-Trial-Heat-Polls-2.1\">2.1.  Characteristics of Trial-Heat Polls</a></span>\n",
    "                <li><span><a href=\"#2.2.-Current-Survey-Based-Approaches-to-Forecasting\" data-toc-modified-id=\"2.2.-Current-Survey-Based-Approaches-to-Forecasting-2.2\">2.2. Current Survey-Based Approaches to Forecasting</a></span></li></ul>\n",
    "        <li><span><a href=\"#3.-Dynamic-Bayesian-Forecasting-Model\" data-toc-modified-id=\"3.-Dynamic-Bayesian-Forecasting-Model-3\">3. Dynamic Bayesian Forecasting Model</a></span></li>\n",
    "        <ul class=\"toc-item\">\n",
    "                <li><span><a href=\"#3.1.-Specification\" data-toc-modified-id=\"3.1.-Specification-3.1\">3.1.  Specification</a></span>\n",
    "                <li><span><a href=\"#3.2.-State-Level-Trends\" data-toc-modified-id=\"3.2.-State-Level-Trends-3.2\">3.2. State Level Trends</a></span>\n",
    "                <li><span><a href=\"#3.3.-Fundamentals\" data-toc-modified-id=\"3.3.-Fundamentals-3.3\">3.3.  Fundamentals</a></span></li></ul>\n",
    "        <li><span><a href=\"#4.-Application:-The-2016-U.S.-Presidential-Election\" data-toc-modified-id=\"4.-Application:-The-2016-U.S.-Presidential-Election-4\">4. Application: The 2016 U.S. Presidential Election</a></span></li>\n",
    "            <ul class=\"toc-item\">\n",
    "                <li><span><a href=\"#4.1.-Data\" data-toc-modified-id=\"4.1.-Data-4.1\">4.1.  Data</a></span>\n",
    "                <li><span><a href=\"#4.2.-Results\" data-toc-modified-id=\"4.2.-Results-4.2\">4.2.  Results</a></span>\n",
    "                    <ul class=\"toc-item\">\n",
    "                        <li><span><a href=\"#4.2.1. -Electoral-College-Simulations\" data-toc-modified-id=\"4.2.1.-Electoral-College-Simulations-4.2.1.\">4.2.1.  Electoral College Simulations</a></span>\n",
    "                        <li><span><a href=\"#4.2.2. -National-Vote-Trends\" data-toc-modified-id=\"4.2.2.-National-Vote-Trends-4.2.2.\">4.2.2.  National Vote Trends</a></span>\n",
    "                        <li><span><a href=\"#4.2.3. -State-by-State-Trends\" data-toc-modified-id=\"4.2.3.-State-by-State-Trends-4.2.3.\">4.2.3.  State-by-State Trends</a></span>\n",
    "                        <li><span><a href=\"#4.2.4. -Pollster,-Population-and-Mode-Effects\" data-toc-modified-id=\"4.2.4.-Pollster,-Population-and-Mode-Effects-4.2.4.\">4.2.4.  Pollster, Population and Mode Effects</a></span> </li></ul></ul>\n",
    "         <li><span><a href=\"#5.-Conclusion\" data-toc-modified-id=\"5.-Conclusion-5\">5. Conclusion</a></span></ul></div>"
   ]
  },
  {
   "cell_type": "code",
<<<<<<< HEAD
   "execution_count": 1,
=======
   "execution_count": 3,
>>>>>>> 1c017e7425bb20dd0d60e1ec4016f370ae415281
   "metadata": {},
   "outputs": [],
   "source": [
    "%matplotlib inline\n",
    "import numpy as np\n",
    "import pandas as pd\n",
    "import statsmodels as sm\n",
    "import statsmodels.formula.api as smf\n",
    "import statsmodels.api as sm_api\n",
    "import matplotlib.pyplot as plt\n",
    "from IPython.display import HTML\n",
    "import warnings \n",
    "warnings.filterwarnings(\"ignore\")"
   ]
  },
  {
   "cell_type": "code",
<<<<<<< HEAD
   "execution_count": 2,
=======
   "execution_count": 4,
>>>>>>> 1c017e7425bb20dd0d60e1ec4016f370ae415281
   "metadata": {
    "scrolled": true
   },
   "outputs": [],
   "source": [
    "from auxiliary.auxiliary_data import *\n"
   ]
  },
  {
   "cell_type": "markdown",
   "metadata": {},
   "source": [
    "---\n",
    "# 1. Introduction \n",
    "---\n",
    "Analysts and political pundits spend endless hours trying to forecast the presidential winner when election happens in every four years. The weight of the interpretation of the quantitative historical data, as well as the results of prelection public opinion polls asking the voters who the favor increases every election. Especially in 2016 presidential campaign, we have observed a sharp increase in the number pf state-wide opinion polls. Over 1700 distinct polls all around the U.S had been conducted by the election day. More than 1 million people participated in these polls. We know that in the most competitive so called swing states, new polls were released every day. The widespread availability of these polls not only affected the perception the presidential candidates, but also how the campaign was reported in the news media.\n",
    "\n",
    "This rich but noisy prelection survey data proposes a new source of information for both tracking the evolution of the voter preferences, as well as forecasting the election outcomes. The importance of accurately measuring and predicting these outcomes is not only limited to those in the media, whose job is to explain the masses how the campaign trends are evolving, but also concerned the political strategists who had to make decisions on how to allocate millions of dollars’ worth of advertisement and manpower during the election. Additionally, the factors that affected the election has always piqued the interest of the academic researches. They are mainly interested in the forecasting value versus prelection public opinion polls, the earliness with which accurate forecasting can be made, the dynamics behind the public opinion during the campaign, and the extent to which the campaign affect the eventual result.\n",
    "\n",
    "In this article we aim to focus on the following subjects: state and national estimates of not only the current preferences of voters at every point in the campaign, but also forecast of presidential candidates’ vote shares and probabilities of victory on election day.\n",
    "\n",
    "Here we will introduce a dynamic Bayesian forecasting model which will combine economics and regression based historical forecasting. We are expecting historical forecasting being developed in political science and economics having poll tracking capabilities that was made feasible by the recent increase in the state level opinion polling will be helpful. Current historical models are designed to predict the presidential candidates’ popular share 2-3 months before the election. This is done usually through the so-called fundamental parameters such as, levels of economic growth, changes in employment rate, whether the incumbent is running for election etc. The general voter inclination tends towards punishing the incumbent party’s candidates when times are bad and support them when the economical and social conditions are better.\n",
    "\n",
    "The predictions from structural models are has shown surprising accuracy albeit being somewhat uncertain. The majority of the historical forecasting depends on the data from previous 10 to 15 elections, which can mainly generate national level estimates for the candidates’ vote shares. It is exceedingly difficult to confidently predict a winner, unless there is a clear advantage of the aforementioned fundamentals for one candidate. Moreover, the structural models do not include an updating mechanism in case there is an error in the early forecasting. This error margin widens as it gets closer the election. In 2016, for example, Donald Trump won the presidential election with 46.1% of the majority vote. Although this was a considerable margin by historical standards, many published forecasts were unable to predict his victory accurately. According Campbell (2008) Hillary Clinton would recieve 51,2% of the national two paty votes. In our opinion, this shows that even if most of the predictions would show one direction, human decision-making system could differ the results.\n",
    "\n",
    "We think that, in order to correct the potential errors in historical forecasts, the prelection polls can provide a contextual information, increasing the accuracy and the precision of these forecasts. Generally speaking, as the election days gets closer, the opinion polls generate a better estimate, a very close one to the end result. Earlier polls, while not exactly useful for prediction of the election, can be used to detect the trends in voter preferences. Survey-based opinion tracking presents its own challenges, however. Firstly, not every state being polled on daily basis creates a gap in the time series. Less competitive states do not provide sufficient data. Secondly, because of the sampling variability and other sources of error, measured preferences fluctuate greatly from poll to poll, which causes a misinterpretation of the representation of changes in voter attitudes. It is, therefore, necessary to carry out a series of multi-survey aggregation and smoothing in order to reveal any underlying trends.\n",
    "\n",
    "We aim to help the researchers to refine and update structural state-level election forecasts by describing an integrated modeling framework. This model will mainly rely on the results of every newly available state-level opinion poll. We used the older polls to estimate the past trends in state level opinion as they provide less data for forecasting. This model also borrows strength hierarchically across both states and days of the campaign in order to handle the uneven spacing of the prelection polls. Moreover, when a significant event occurs that will affect the short-term mass opinion, such as party conventions or major news, this model has the capacity to detect and account it on how it will affect the campaigns.\n",
    "\n",
    "The end result is a set of rather early election forecasts which becomes more and more accurate as the election day nears and relatively sustains its stability. Our model also yields daily estimates of current opinion in each state at any point during the campaign together with its related uncertainty. This is thanks to these forecasts depending on reported levels of support for each candidate in the trial-heat polls. Furthermore, the model can provide logically valid estimates of the probabilities that which state will be won by which candidate as well Electoral Collage results as a whole. The model provides these results as the function of the following three parameters: available polling data, the prior certainty in the predictions of the historical model, and the proximity to election day.\n",
    "\n",
    "When we applied the model to the dual problems of tracking the state-level opinion and forecasting the outcome of the 2016 election and simulate the campaign from May 2016 through Election Day, November 8, we realized, contrary to expectations of Clinton's victory, Trump’s victory was not highly predictable many months before the election.\n"
   ]
  },
  {
   "cell_type": "markdown",
   "metadata": {},
   "source": [
    "---\n",
    "# 2. Background\n",
    "---\n",
    "United States election system is designed so that the presidential election, through the institution of Electoral College, is decided on state level. Within each state, winner of the election, the candidate receiving the majority of the votes, gets everything. The number of electoral votes per state is equal to a state’s total number of federal representatives and senators, with Maine and Nebraska being the exceptions. Recent elections have followed a safe states trend, in which election outcomes of these certain states are not competitive and were mostly determined, even if the exact percentage of the votes were not fully realized. It is commonly observed that 30-35 states out of 50 is considered safe states by both the Republicans and Democrats.\n",
    "\n",
    "As a result, the presidential elections are won or lost in smaller number of determining states. Commonly named as “swing” of “battleground” states, which Florida and Ohio stands out as the most prominent ones. The outcome of these states is, obviously, more difficult to predict on advance. The potential value of prelection polling forecast and opinion tracking is greatest in these swing states.\n"
   ]
  },
  {
   "cell_type": "markdown",
   "metadata": {},
   "source": [
    "---\n",
    "### 2.1. Characteristics of Trial-Heat Polls\n",
    "---\n",
    "Prelection polls are usually conducted by asking the people who their preference among the presidential candidates. These people are random samples of registered or likely voters. The precise wording of the Washington Post – ABC News tracking poll, for example was the following: “If the 2008 presidential election were being held today, and the candidates were Barrack Obama and Joe Biden, the Democrats, and John McCain and Sarah Pali, the Republicans, for whom you would vote?” The answers of this poll are tabulated and the reported by the pollsters. Most polls include the undecided votes and other tally support for nonmajor party candidates as well.\n",
    "\n",
    "The causes for a survey to deviate from the actual vote outcome of a state are numerous. One major factor is sampling variability. Around half or more of the total variations in the trial-heat estimates during the campaign are accounted to this factor alone. Additionally, the different survey designs conducted by polling organizations such as question wording, sampling weights etc. will contribute to a larger “total survey error”. There is also the phenomena called “House effect”. It arises when the survey estimates are produced by the polling firms biased towards a candidate. Fortunately, this bias can be cancelled out by averaging multiple concurrent surveys from different pollsters. The damage caused the erroneous survey results are especially damaging to estimates of the state opinions when there are only few other polls.\n",
    "\n",
    "Polls’ predictive accuracy is also determined by the timing of the polls. The polls that were conducted early on the camping has a tendency of being on the more inaccurate side compared to the ones that were carried out just before the election day. Voters’ reported preferences fluctuates during the race as they learn more about the candidates. This is significantly truer for the undecided voters as well as the voters who did not spend much effort on evaluating the candidates. Voters’ preferences are known to sway when there is an intense and consistent media coverage of one of the candidates, which usually occurs during the conventions. For majority of the voters’ simply waiting until the end of the campaign is the way of making up their mind. \n"
   ]
  },
  {
   "cell_type": "markdown",
   "metadata": {},
   "source": [
    "---\n",
    "### 2.2. Current Survey-Based Approaches to Forecasting\n",
    "We can make an election forecasting using the following prelection polls data: early measures of presidential approval, policy satisfaction, support for the incumbent party candidate, or other relevant attitudes as an independent variable in a broader historical method fitted to past election data. There is, however, a fundamental limitation for this approach. The regression weights estimated for the opinion variable are subject to uncertainty as they may have changed since earlier elections. Moreover, another error will occur from the poll results used as input for the model since there is a probability of the true state opinion is different.\n",
    "\n",
    "The use of trial-heat survey data to update historical model-based forecast, like a Bayesian method, can be used as a second strategy. However, the current methods are not powerful enough to operate on the data from all available state-level opinion polls in real time. The current Bayesian techniques can only produce result late in the campaign or the election result be known beforehand to be used, making the forecast meaningless. \n"
   ]
  },
  {
   "cell_type": "markdown",
   "metadata": {},
   "source": [
    "---\n",
    "# 3. Dynamic Bayesian Forecasting Model\n",
    "---\n",
    "Here we demonstrated that how a sequence of state-level prelection polls can be used to estimate current voter preferences as well as the election outcome. The results are acceptable whether the survey was conducted on that day or not. The data this model uses to forecast the end results, gradually transitions from the historical factors, early in the campaign, to survey data as we get closer to election day. The model borrows strength hierarchically across both states and time when the polling frequency is insufficient in a state. This is done to smooth out the estimates within state trends between consecutive surveys. Because national campaign events affect the short-term voter’s preferences in all 51 states similarly, and temporal patterns in state-level opinions are close to each other, carrying out this method is possible. "
   ]
  },
  {
   "cell_type": "markdown",
   "metadata": {},
   "source": [
    "---\n",
    "### 3.1. Specification \n",
    "---\n",
    "Let’s say $h_{s}$ is the forecast of the vote share received by the Democratic Party candidate in states $s = 1, …. 51$, based upon a historical model which produces predictions far in advance of Election Day. Not having a definitive model existing leaves the certainty of the estimation to the analyst. While the values picked for $h_{s}$ should be well generated, they can be updated using the polling data gathered closer to election. \n",
    "\n",
    "The number of released prelection polls data increases as the election day nears. Let $t = 1, …. T$, index days of the campaign so that $t = 1$ is the first day of the campaign and the $t = T$ is Election Day. On day $t$ of the campaign, let $i_{t}$ represents the total number of the state-level polls that have been published until that point. We used the following denotation to show the voters who show a preference of one of the candidates. For each poll *i*, let the number of supporters for one of the two major parties as $n_{i}$ and, $y_{i}$ be the number of respondents who support the Democratic candidate. \n",
    "\n",
    "For each poll *i*, the proportion of the voters who intend to vote for the Democrat candidate, $\\pi_{i}$, has binomial distribution:\n",
    "\n",
    "\\begin{equation}\n",
    "    y_{i} \\sim Binomial(\\pi_{it}, n_{i})   \n",
    "\\end{equation}\n",
    "\n",
    "Practically speaking, with respect to nominal sample sizes $n$ the house effects and other sources of survey errors, $y_{i}/n_{i}$, are overdispersed. We will demonstrate that the amount of impact this produces is insignificant. Moreover, correcting this overdispersion by estimating firm-based effects is not practically possible mainly because most pollsters conduct a very small share of surveys. Alternatively, deflating $n_{i}$ and $y_{i}$ by a multiplicative factor will result in a underestimation of the temporal volatility of the $\\pi_{i}$. This is actually worse than overconfidence of election results. \n",
    "\n",
    "The Election Day forecast in state $s$ is the estimated value of $\\pi_{i}$. $\\pi_{i}$ are estimated for all $T$ days on any day during the campaign for both proceeding and following the most recent day on which a poll was conducted. $\\pi_{i}$ values are expected to approximate only as $t$ approaches $T$ since voter preferences vary during the campaign. We did not include the undecided votes because there not known how they would vote on other days of the campaign $t$, or Election Day as well. In the case of undecided votes disproportionately break in favor of a candidate, it will appear as a systemic error. The results we present do not show evidence of such bias. \n",
    "\n",
    "The multi-level model of $\\pi_{i}$ for poll $i$ is established based on state-level or national-level. The multi-level model of $\\pi_{i}$ in state $s[i]$ at time $t[i]$ is defined as below:\n",
    "\n",
    "\\begin{equation}\n",
    "logit(\\pi_{i}) = \\mu_{t[i]}^{a} + \\mu_{t[i], s[i]}^{b} + \\mu_{p[i]}^{c} + \\mu_{r[i]}^{r} + \\mu_{m[i]}^{m} + u_{i} + e_{s[i]}\n",
    "\\end{equation}\n",
    "\n",
    "We, basically, disintegrate the model into a national component, given to all states $\\mu_{t[i]}^{a}$, state component $\\mu_{t[i], s[i]}^{b}$, pollster house effect $\\mu_{p[i]}^{c}$, polling population effect $\\mu_{r[i]}^{r}$, polling mode effect $\\mu_{m[i]}^{m}$, measurement error term $u_{i}$ and, correlated state error term $e_{s[i]}$. $u_{i}$ has normal distribution centered at 0 with standard deviation $\\sigma^{b}$, while $e_{s}$ centered $0.7$ with standard deviation $0.1$ (Heidemanns, 2020). \n",
    "\n",
    "What makes this model to be able to borrow strength across states when estimating $\\pi_{i}$ is the separation of state-level and national-level effects in this formula. While the trends in all states, $\\pi_{i}$, are estimated simultaneously, there will be gaps caused by lack of conducted polls. In order to fill these intervals, the $e_{s[i]}$ parameter can detect common patterns in voter opinion in other states on day $t$. In the case the opinions across the states are not consistent, it will be captured by the model. \n",
    "\n",
    "The national term is determined as $0$ on the day of the last poll so that it is feasible to predict the vote share of Democrat candidate in state $s$ after the last poll day until election day :\n",
    "\n",
    "\\begin{equation}\n",
    "\\pi_{i} = logit^{-1}(\\mu_{t[i], s[i]}^{b} + \\alpha_{i} +  u_{i} + e_{s[i]})\n",
    "\\end{equation}\n",
    "\n",
    "We include the shared bias terms into model as an extension:\n",
    "\n",
    "\\begin{equation}\n",
    "\\alpha_{i} = \\mu_{p[i]}^{c} + \\mu_{r[i]}^{r} + \\mu_{m[i]}^{m} + z\\epsilon_{t[i]}\n",
    "\\end{equation}\n",
    "\n",
    "where $\\epsilon$ is an adjustment term for non-responses and $z$ is a partizanship term, equals to 1 if there is no adjustment of partizanship in pollster, otherwise 0. The adjustment terms are centered at 0 :\n",
    "\n",
    "\\begin{equation}\n",
    "\\mu^{c} \\sim Normal(0, \\sigma^{c}) \\\\\n",
    "\\mu^{r} \\sim Normal(0, \\sigma^{r}) \\\\\n",
    "\\mu^{m} \\sim Normal(0, \\sigma^{m}) \n",
    "\\end{equation}\n",
    "\n",
    "It means that we're forecasting the variance based this year on the polling data, rather than relying on important data about pollster quality or the consistency of likely voter modifications based on previous data, because we're aware that both won't include credible indicators for the current election.\n",
    "\n",
    "In national poll model, it is also important to note that the weighted average of state results should be represented by the vote share of Democrat canditate in time $t$. The vote share in each state with weights $w_{s}$ should sum up to 1, where $w_{s}$ indicates the vote share of state $s$ in total votes of polled states. Therefore, the model of national votes represented as below:\n",
    "\n",
    "\\begin{equation}\n",
    "\\pi_{i} = logit^{-1}(\\sum_{s=1}^{S}w_{s}\\mu_{t[i], s}^{b} + \\alpha_{i} + u_{i} + e_{s[i]})\n",
    "\\end{equation}\n"
   ]
  },
  {
   "cell_type": "markdown",
   "metadata": {},
   "source": [
    "---\n",
    "### 3.2. State Level Trends\n",
    "---\n",
    "\n",
    "It is possible to gather and analyze the parameters across states over time by correlated random walk. The state-level political views are simulated as random walk model which created by fundamental-based predictions of election day. \n",
    "\n",
    "The random walk component integrates polled days and dynamically adjusts for days without polls between those. The undercertainty for days without data is captured by our prior model function and poll data from other states, and cross-validated with using the data of 2012 elections. The vote share at dates without no data of polls is determined as below:\n",
    "\n",
    "\\begin{equation}\n",
    "\\mu_{t}^{b}[t-1] = Multivariate Normal(\\mu_{t-1}^{b}, \\sigma^{b})\n",
    "\\end{equation}\n",
    "\n",
    "where $\\mu_{t}$ is estimated from the fundamentals model. Based on Abromowitz (2008)'s \"*time for change*\" model, the fundamentals method integrates prior election results with economic and political factors. Instead of rewarding a first-term incumbent, we penalized parties that had already taken the seat for at least two elections. Moreover, instead of relying solely on second-quarter GDP growth, it is used a composite of changes over the previous year in a wide range of economic indicators. The fundamentals method generates remarkably accurate results especially in historical testing. "
   ]
  },
  {
   "cell_type": "markdown",
   "metadata": {},
   "source": [
    "---\n",
    "### 3.3. Fundamentals\n",
    "---\n",
    "The fact that fundamentals models are easy to \"over-fit\" is a typical problem. To prevent this problem, it has adapted two machine learning techniques: \"elastic-net regularisation\" and \"leave-one-out cross-validation.\" (Heidemanns, 2020).\n",
    "\n",
    "Elastic-net regularisation has been a way to minimize model complexity. In general, simpler equations predict unknown data better than complicated ones. Models are simplified by \"regularization,\" which reduces the effect of explanatory variables or eliminates weak ones solely.\n",
    "\n",
    "It is then used \"leave-one-out cross-validation\" to evaluate the amount of reduction to use. A fundamentals model is generated on the elections, which took place between 1952 and 2016. This simplified model was developed to estimate what may have taken place in 1948 upon standardizing the resulting equation. This cycle continues for the remaining 17 elections. Following this cycle, a list of 18 forecasts is generated, one for each election year. The same amount of reduction is employed for each forecast which is based on the data of elections except the one under consideration. This process was repeated 100 times, with a different degree of reduction each time, upon capturing the predictive performance forecasts. The reduction component that provides to be the most effective is the winner. However, we adopt the Abramowitz data from Heidemanns because of the fact that it is hard compute \"time for change\" model due to time constraint. \n",
    "\n"
   ]
  },
  {
   "cell_type": "markdown",
   "metadata": {},
   "source": [
    "---\n",
    "# 4. Application: The 2016 U.S. Presidential Election\n",
    "---"
   ]
  },
  {
   "cell_type": "markdown",
   "metadata": {},
   "source": [
    "---\n",
    "## 4.1. Data\n",
    "---\n",
    "During the campaign, pollsters listed reports of 1257 state-level and 361 nation-wide public opinion poll and  results in which voters were asked to choose their most-likely presidential candidate (Huffingtonpost, 2016). Although several candidates running for the office of President of the United States, the model ignores third-party candidates and focuses on two of them: Clinton and Trump. Therefore, the total number of polls equal to sum of poll shares of Clinton and Trump: $N = N^{clinton} + N^{trump}$. The focused rate determined as Clinton vote share which is the ratio of number of supporters for Clinton to total number of supporters for either Clinton or Trump. \n",
    "\n",
    "Although the median of all polls that conducted by all pollsters is 2, the 8 of all pollster conducted half of the polls, respectively from largest to smallest: UPI, Ipsos, SurveyMonkey, NBC, PPP, Washington Post, CBS and, Quinnipiac. The median of respondents is 799. On average, 85% of respondents indicated they were most likely to support either Clinton or Trump. Also, the ratio of undecided voters decreased as election day closer. Almost half of the surveys were conducted online while 33% of them were on phone. \n",
    "\n",
    "The percentage of electoral polls conducted increased towards to election day; 64% of all polls conducted in last 2 months (Figure 1). It is anticipated a contentious electoral race in states with a high percentage of polls: the survey was conducted 81 times in Florida while 68 times in Pennsylvania and, North Carolina, and 61 times in Ohio (Figure !!!!!!!!!!!!). The least polled states are: 7 times in Rhode Island, 8 times in Wyoming and Hawaii and, 9 times in South Dakota, North Dakota and Montana. Since the file is too big, it is not possible to conduct all preparations in this notebook. For further investigation, the data preparation methods can be found in auxiliary data file.\n",
    "\n",
    "\n"
   ]
  },
  {
   "cell_type": "code",
<<<<<<< HEAD
   "execution_count": 3,
=======
   "execution_count": 5,
>>>>>>> 1c017e7425bb20dd0d60e1ec4016f370ae415281
   "metadata": {},
   "outputs": [],
   "source": [
    "df = pd.read_csv(\"data/all_polls.csv\")\n",
    "df = data_preparation(df)"
   ]
  },
  {
<<<<<<< HEAD
   "cell_type": "markdown",
   "metadata": {},
   "source": [
    "#### Figure 1. Cumulative number of state-level presidential preelection polls fielded in advance of the 2016 election."
   ]
  },
  {
   "cell_type": "code",
   "execution_count": 4,
   "metadata": {},
   "outputs": [
    {
     "data": {
      "text/plain": [
       "Text(0, 0.5, 'Cumulative number of polls fielded')"
      ]
     },
     "execution_count": 4,
     "metadata": {},
     "output_type": "execute_result"
    },
    {
     "data": {
      "image/png": "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\n",
      "text/plain": [
       "<Figure size 432x288 with 1 Axes>"
      ]
     },
     "metadata": {
      "needs_background": "light"
     },
     "output_type": "display_data"
    }
   ],
   "source": [
=======
   "cell_type": "code",
   "execution_count": 6,
   "metadata": {},
   "outputs": [
    {
     "data": {
      "text/plain": [
       "array([   2,   71,  128,  203,  323,  439,  665, 1067])"
      ]
     },
     "execution_count": 6,
     "metadata": {},
     "output_type": "execute_result"
    },
    {
     "data": {
      "image/png": "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\n",
      "text/plain": [
       "<Figure size 432x288 with 1 Axes>"
      ]
     },
     "metadata": {
      "needs_background": "light"
     },
     "output_type": "display_data"
    }
   ],
   "source": [
>>>>>>> 1c017e7425bb20dd0d60e1ec4016f370ae415281
    "num_polls = df.groupby(\"t\").count()[\"n\"].cumsum().values\n",
    "plt.plot(range(len(num_polls)), num_polls)\n",
    "plt.xticks(range(len(num_polls)-1, 0, -30), list(range(0,8,1)))\n",
    "plt.ylim(0, 2000)\n",
    "num_polls[list(range(0, len(num_polls)+1, 30))]\n",
<<<<<<< HEAD
    "plt.xlabel(\"Months prior to Election Day\")\n",
    "plt.ylabel(\"Cumulative number of polls fielded\")"
=======
    "plt.x"
>>>>>>> 1c017e7425bb20dd0d60e1ec4016f370ae415281
   ]
  },
  {
   "cell_type": "markdown",
   "metadata": {},
   "source": [
    "---\n",
    "## 4.2. Results\n",
    "---\n",
    "In this paper, a large number of political and economic parameters are estimated using relatively few polls. Therefore, a prior data is implemented for effective and accurate estimation. These are related to the priors we chose, the indicators in the fundamentals-based forecast, and the covariance matrix that provides data across states. As a result, the model's output is affected by these selections. Instead of predicting the outcome of an election, we forecast voting intentions. The Electoral College prediction is based on our vote estimations for each state.\n",
    "\n",
    "As we mentioned above, Voters do not choose the president; rather, they authorize their state's electoral-college electors on how to vote. In the majority of states, all electors vote in accordance with popular sentiment in the state. For example, if Hillary Clinton receives more than 50 percent of the vote in Pennsylvania, all 20 of the state's electors will vote for her — but nobody will vote for Donald Trump. To win the presidency, a candidate must receive at least 270 electoral votes. \n",
    "\n",
    "The election was held on November 8, 2016. The polls were conducted between March 1, 2016, and November 7, 2016 -  over the course of 233 days."
   ]
  },
  {
   "cell_type": "markdown",
   "metadata": {},
   "source": [
    "---\n",
    "### 4.2.1. Electoral College Simulations\n",
    "---\n",
    "\n",
    "We simulate 3000 paths for each day polled and each state. The model is analyzed by implementing daily state-level and national polls with economic and political factors such as fundamentals, urbanicity, white evangelists, race statistics. For each time frame, the candidates' vote shares are modified to compensate for sampling error, differences in the participation rate, or changes in the political environment, as well as the impacts of campaigning. One should note that the model ignores Maine's and Nebraska's unique electoral vote distribution rules (Kremp, 2020). The probability of each possible electoral-vote outcome is represented by the bars in Figure AAAAA below. \n"
   ]
  },
  {
   "cell_type": "markdown",
   "metadata": {},
   "source": [
    "---\n",
    "### 4.2.2. National Vote Trends\n",
    "---\n",
    "\n",
    "The weighted average of state-by-state vote estimates was implemented to calculate Clinton's share of the two parties' national vote. The model of national vote estimates is defined in Section 3.1. The thick line denotes the median of the posterior distribution of national vote estimates, while the light blue area denotes the 90% confidence are. The 3000 draws from the posterior distribution are denoted by the thin blue lines. Towards election day, Clinton's national vote share is represented by a dotted black line and estimated to decrease slowly, returning to the fundamentals-based prior. Clinton's national poll numbers are generally lower than the expected level based on state-level estimates. "
   ]
  },
  {
   "cell_type": "markdown",
   "metadata": {},
   "source": [
    "---\n",
    "### 4.2.3. State-by-State Trends\n",
    "---\n",
    "We forecast the probabilities of vote intentions in each state using public polls from the HuffPost Pollster database. To simulate, we use a dynamic Bayesian forecasting model (Linzer, 2013). The simulations are run until election day. Because we don't have further polling data, the definition implies voter behaviours will generally follow their current paths. When more and more polls are released, forecasts will become more accurate. We integrate forecasts by providing the fundamentals-based estimation the prior for election day. The previous random walk can be illustrated as a time travel from election Day to the actual polling day. As a result, the poll-based forecast for election day is used to adjust the model's prior for Election Day. The following graphs show the vote inventions for each state. \n"
   ]
  },
  {
   "cell_type": "markdown",
   "metadata": {},
   "source": [
    "---\n",
    "### 4.2.4. Pollster, Population and Mode Effects\n",
    "---\n",
    "\n",
    "Adjustment features for pollsters, polled population (e.g., likely voters and registered voters), and polling mode (e.g. live phone or online) are used. Pollsters can support parties and be partizan, and that the same holds true for the polled population and the methods used to poll the voters. The error distributions of adjusters are defined in Section 3.1. The following figure shows the "
   ]
  },
  {
   "cell_type": "markdown",
   "metadata": {},
   "source": [
    "---\n",
    "# 5. Conclusion\n",
    "---\n",
    "In this project we studied the Bayesian Forecasting model in order to predict the upcoming U.S presidential election outcomes at the state level. This model mainly considers the large number of state-level opinion surveys as well as information from the historical forecasting models. The end result is a set of data that has an increasing accuracy as the election day approaches. To borrow strength both across state and through the use of random-walk priors, here we employed hierarchical specification. This is done for the purpose of overcoming the limitation that not every state is polled regularly. Moreover, in order to handle the daily tracking of voter preferences towards the presidential candidates, this model sifts through day-to-day variations in the polls caused by sampling error and national campaign effects. We also used simulation techniques to estimate the candidates’ winning chance and thus the winning chance of Electoral College. When this model is applied to 2008 presidential campaign, the victory of Hillary Clinton was never, in fact, in doubt. However, at the end Donald Trump was the winner.We aim to help the researchers to refine and update structural state-level election forecasts by describing an integrated modeling framework. This model will mainly rely on the results of every newly available state-level opinion poll. We used the older polls to estimate the past trends in state level opinion as they provide less data for forecasting. This model also borrows strength hierarchically across both states and days of the campaign in order to handle the uneven spacing of the prelection polls. Moreover, when a significant event occurs that will affect the short-term mass opinion, such as party conventions or major news, this model has the capacity to detect and account it on how it will affect the campaigns.\n",
    "\n",
    "Due to the time constraint, we could not analyze why our forecast provide wrong results. In fact, we know that many of the forecast models that year were not accurate. Although it was a failure for the US election forecasts made in 2016, the reason for this deviation and inconsistency should be investigated and analyzed in future studies.\n"
   ]
  },
  {
   "cell_type": "markdown",
   "metadata": {},
   "source": [
    "---\n",
    "# 7. References\n",
    "---"
   ]
  },
  {
   "cell_type": "markdown",
   "metadata": {},
   "source": [
    "*   Abramowitz, A. I. (2008). Forecasting the 2008 presidential election with the time-for-change model. PS: Political Science & Politics, 41, 691–695.\n",
    "\n",
    "*   Heidemanns, M., Gelman, A., & Morris, G. E. (2020). An Updated Dynamic Bayesian Forecasting Model for the US Presidential Election. Harvard Data Science Review, 2(4). https://doi.org/10.1162/99608f92.fc62f1e1\n",
    "\n",
    "* Huffingtonpost, (2016). 2016 Senate Races. Retrieved from https://elections.huffingtonpost.com/pollster#2016-senate-races\n",
    "\n",
    "* Kremp, P. A. (2020). State and National Poll Aggregation.\n",
    "\n",
    "* Linzer, D. A. (2013). Dynamic Bayesian forecasting of presidential elections in the states. Journal of the American Statistical Association, 108, 124–134.\n",
    "\n",
    "\n",
    "\n"
   ]
  }
 ],
 "metadata": {
  "kernelspec": {
   "display_name": "Python 3",
   "language": "python",
   "name": "python3"
  },
  "language_info": {
   "codemirror_mode": {
    "name": "ipython",
    "version": 3
   },
   "file_extension": ".py",
   "mimetype": "text/x-python",
   "name": "python",
   "nbconvert_exporter": "python",
   "pygments_lexer": "ipython3",
   "version": "3.8.5"
  },
  "toc": {
   "base_numbering": 1,
   "nav_menu": {},
   "number_sections": false,
   "sideBar": true,
   "skip_h1_title": false,
   "title_cell": "Table of Contents",
   "title_sidebar": "Contents",
   "toc_cell": true,
   "toc_position": {
    "height": "622.641px",
    "left": "691px",
    "top": "110px",
    "width": "277.4px"
   },
   "toc_section_display": true,
   "toc_window_display": true
  },
  "varInspector": {
   "cols": {
    "lenName": 16,
    "lenType": 16,
    "lenVar": 40
   },
   "kernels_config": {
    "python": {
     "delete_cmd_postfix": "",
     "delete_cmd_prefix": "del ",
     "library": "var_list.py",
     "varRefreshCmd": "print(var_dic_list())"
    },
    "r": {
     "delete_cmd_postfix": ") ",
     "delete_cmd_prefix": "rm(",
     "library": "var_list.r",
     "varRefreshCmd": "cat(var_dic_list()) "
    }
   },
   "oldHeight": 189.73845400000002,
   "position": {
    "height": "478.719px",
    "left": "987.578px",
    "right": "20px",
    "top": "283.984px",
    "width": "717.172px"
   },
   "types_to_exclude": [
    "module",
    "function",
    "builtin_function_or_method",
    "instance",
    "_Feature"
   ],
   "varInspector_section_display": "block",
   "window_display": false
  }
 },
 "nbformat": 4,
 "nbformat_minor": 2
}
